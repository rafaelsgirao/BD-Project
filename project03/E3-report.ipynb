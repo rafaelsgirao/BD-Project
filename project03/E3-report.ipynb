{
 "cells": [
  {
   "attachments": {},
   "cell_type": "markdown",
   "id": "19b43aee-c23f-4ef7-8547-9c309b2dbecb",
   "metadata": {},
   "source": [
    "# Projeto de Bases de Dados - Parte 3\n",
    "\n",
    "### Docente Responsável\n",
    "\n",
    "Prof. Daniel Faria\n",
    "\n",
    "### Grupo 03\n",
    "<dl>\n",
    "    <dt>18 horas (33.3%)</dt>\n",
    "    <dd>ist199309 Rafael Girão</dd>\n",
    "    <dt>18 horas (33.3%)</dt>\n",
    "    <dd>ist102082 Simão Sanguinho</dd>\n",
    "    <dt>18 horas (33.3%)</dt>\n",
    "    <dd>ist103252 José Pereira</dd>\n",
    "<dl>"
   ]
  },
  {
   "cell_type": "code",
   "execution_count": null,
   "id": "a6545a02-adea-4c57-b704-cfa1f6253e4b",
   "metadata": {
    "tags": []
   },
   "outputs": [],
   "source": [
    "%load_ext sql\n",
    "%sql postgresql://db:db@postgres/db\n",
    "%config SqlMagic.displaylimit = None"
   ]
  },
  {
   "attachments": {},
   "cell_type": "markdown",
   "id": "1c5deb6e-396e-401f-9b09-af4cd09491a9",
   "metadata": {
    "tags": []
   },
   "source": [
    "# Empresa de comércio online"
   ]
  },
  {
   "attachments": {},
   "cell_type": "markdown",
   "id": "76eab1e8-8d6a-41e3-b242-553a7f14ba84",
   "metadata": {
    "tags": []
   },
   "source": [
    "## 0. Carregamento da Base de Dados"
   ]
  },
  {
   "attachments": {},
   "cell_type": "markdown",
   "id": "e047df4e-b18b-4c70-8f7b-378b4201ee01",
   "metadata": {},
   "source": [
    "Carregue o esquema de Base de Dados apresentado no Anexo A."
   ]
  },
  {
   "cell_type": "code",
   "execution_count": null,
   "id": "c718077c-5193-47a0-bb76-8f1f43a713be",
   "metadata": {
    "tags": []
   },
   "outputs": [],
   "source": [
    "%%sql\n",
    "\n",
    "DROP TABLE IF EXISTS customer CASCADE;\n",
    "DROP TABLE IF EXISTS orders CASCADE;\n",
    "DROP TABLE IF EXISTS pay CASCADE;\n",
    "DROP TABLE IF EXISTS employee CASCADE;\n",
    "DROP TABLE IF EXISTS process CASCADE;\n",
    "DROP TABLE IF EXISTS department CASCADE;\n",
    "DROP TABLE IF EXISTS workplace CASCADE;\n",
    "DROP TABLE IF EXISTS works CASCADE;\n",
    "DROP TABLE IF EXISTS office CASCADE;\n",
    "DROP TABLE IF EXISTS warehouse CASCADE;\n",
    "DROP TABLE IF EXISTS product CASCADE;\n",
    "DROP TABLE IF EXISTS contains CASCADE;\n",
    "DROP TABLE IF EXISTS supplier CASCADE;\n",
    "DROP TABLE IF EXISTS delivery CASCADE;\n",
    "DROP VIEW IF EXISTS product_sales CASCADE;\n",
    "\n",
    "CREATE TABLE customer(\n",
    "cust_no INTEGER PRIMARY KEY,\n",
    "name VARCHAR(80) NOT NULL,\n",
    "email VARCHAR(254) UNIQUE NOT NULL,\n",
    "phone VARCHAR(15),\n",
    "address VARCHAR(255)\n",
    ");\n",
    "\n",
    "CREATE TABLE orders(\n",
    "order_no INTEGER PRIMARY KEY,\n",
    "cust_no INTEGER NOT NULL REFERENCES customer,\n",
    "date DATE NOT NULL\n",
    "--order_no must exist in contains\n",
    ");\n",
    "\n",
    "CREATE TABLE pay(\n",
    "order_no INTEGER PRIMARY KEY REFERENCES orders,\n",
    "cust_no INTEGER NOT NULL REFERENCES customer\n",
    ");\n",
    "\n",
    "CREATE TABLE employee(\n",
    "ssn VARCHAR(20) PRIMARY KEY,\n",
    "TIN VARCHAR(20) UNIQUE NOT NULL,\n",
    "bdate DATE,\n",
    "name VARCHAR NOT NULL\n",
    "--age must be >=18\n",
    ");\n",
    "\n",
    "CREATE TABLE process(\n",
    "ssn VARCHAR(20) REFERENCES employee,\n",
    "order_no INTEGER REFERENCES orders,\n",
    "PRIMARY KEY (ssn, order_no)\n",
    ");\n",
    "\n",
    "CREATE TABLE department(\n",
    "name VARCHAR PRIMARY KEY\n",
    ");\n",
    "\n",
    "CREATE TABLE workplace(\n",
    "address VARCHAR PRIMARY KEY,\n",
    "lat NUMERIC(8, 6) NOT NULL,\n",
    "long NUMERIC(9, 6) NOT NULL,\n",
    "UNIQUE(lat, long)\n",
    "--address must be in warehouse or office but not both\n",
    ");\n",
    "\n",
    "CREATE TABLE office(\n",
    "address VARCHAR(255) PRIMARY KEY REFERENCES workplace\n",
    ");\n",
    "\n",
    "CREATE TABLE warehouse(\n",
    "address VARCHAR(255) PRIMARY KEY REFERENCES workplace\n",
    ");\n",
    "\n",
    "CREATE TABLE works(\n",
    "ssn VARCHAR(20) REFERENCES employee,\n",
    "name VARCHAR(200) REFERENCES department,\n",
    "address VARCHAR(255) REFERENCES workplace,\n",
    "PRIMARY KEY (ssn, name, address)\n",
    ");\n",
    "\n",
    "CREATE TABLE product(\n",
    "SKU VARCHAR(25) PRIMARY KEY,\n",
    "name VARCHAR(200) NOT NULL,\n",
    "description VARCHAR,\n",
    "price NUMERIC(10, 2) NOT NULL,\n",
    "ean NUMERIC(13) UNIQUE\n",
    ");\n",
    "\n",
    "CREATE TABLE contains(\n",
    "order_no INTEGER REFERENCES orders,\n",
    "SKU VARCHAR(25) REFERENCES product,\n",
    "qty INTEGER,\n",
    "PRIMARY KEY (order_no, SKU)\n",
    ");\n",
    "\n",
    "CREATE TABLE supplier(\n",
    "TIN VARCHAR(20) PRIMARY KEY,\n",
    "name VARCHAR(200),\n",
    "address VARCHAR(255),\n",
    "SKU VARCHAR(25) REFERENCES product,\n",
    "date DATE\n",
    ");\n",
    "\n",
    "CREATE TABLE delivery(\n",
    "address VARCHAR(255) REFERENCES warehouse,\n",
    "TIN VARCHAR(20) REFERENCES supplier,\n",
    "PRIMARY KEY (address, TIN)\n",
    ");"
   ]
  },
  {
   "attachments": {},
   "cell_type": "markdown",
   "id": "25fcb3f3-2ec6-4264-bd74-d07bfd56fa76",
   "metadata": {},
   "source": [
    "Crie as instruções para o seu preenchimento de forma consistente, garantindo que todas as consultas SQL e OLAP, apresentadas mais adiante, produzam um resultado não vazio. "
   ]
  },
  {
   "cell_type": "code",
   "execution_count": null,
   "id": "e33d841c-c21e-4a9a-88b4-00b45b039261",
   "metadata": {
    "tags": []
   },
   "outputs": [],
   "source": [
    "%%sql\n",
    "-- populate.sql\n",
    "\n",
    "INSERT INTO customer\n",
    "VALUES\n",
    "(-1, 'Deleted User', 'deleted@localhost.localdomain', '000000000', 'null'), --Dummy user to hold a deleted customer's leftovers.\n",
    "(13, 'João Faria', 'joao.faria@gmail.com', '913789392', 'Rua Camões 123, 4800-005 Guimarães'),\n",
    "(2, 'Jorge Nunes', 'jorge.n@hotmail.com', '987712312', 'Rua Amarela 123, 8700-312 Olhão'),\n",
    "(35, 'Ana Lampreia', 'ana.lamp@gmail.com', '91203456', 'Rua dos Cravos 12, 1049-001 Lisboa');\n",
    "\n",
    "INSERT INTO orders\n",
    "VALUES\n",
    "(101, 13, '2022-01-01'),\n",
    "(102, 2, '2023-01-02'),\n",
    "(103, 35, '2022-05-03'),\n",
    "(104, 2, '2023-05-03'),\n",
    "(105, 35, '2022-01-03'),\n",
    "(106, 35, '2022-02-03'),\n",
    "(107, 35, '2022-03-03'),\n",
    "(108, 2, '2022-04-03'),\n",
    "(109, 35, '2022-05-03'),\n",
    "(110, 35, '2022-06-03'),\n",
    "(111, 2, '2023-08-18'),\n",
    "(112, 35, '2022-07-03'),\n",
    "(113, 35, '2022-08-03'),\n",
    "(114, 13, '2022-09-03'),\n",
    "(115, 13, '2022-10-03'),\n",
    "(116, 13, '2022-11-03'),\n",
    "(117, 2, '2022-12-03'),\n",
    "(118, 35, '2022-10-03');\n",
    "\n",
    "INSERT INTO pay \n",
    "VALUES\n",
    "(101, 13),\n",
    "(102, 2),\n",
    "(104, 2);\n",
    "\n",
    "INSERT INTO employee\n",
    "VALUES\n",
    "('12345678910', '243678525', '2000-01-01', 'Sofia Barbosa'),\n",
    "('10987654321', '125637263', '1985-05-10', 'Diogo Silva');\n",
    "\n",
    "INSERT INTO process\n",
    "VALUES\n",
    "('12345678910', 101),\n",
    "('10987654321', 102),\n",
    "('12345678910', 103),\n",
    "('10987654321', 104),\n",
    "('12345678910', 105),\n",
    "('12345678910', 106),\n",
    "('12345678910', 107),\n",
    "('12345678910', 108),\n",
    "('12345678910', 109),\n",
    "('12345678910', 110),\n",
    "('12345678910', 111),\n",
    "('12345678910', 112),\n",
    "('12345678910', 113),\n",
    "('12345678910', 114),\n",
    "('12345678910', 115),\n",
    "('12345678910', 116),\n",
    "('12345678910', 117),\n",
    "('10987654321', 118);\n",
    "\n",
    "INSERT INTO department\n",
    "VALUES\n",
    "('Sales'),\n",
    "('Accounting');\n",
    "\n",
    "INSERT INTO workplace \n",
    "VALUES\n",
    "('Rua 25 de Abril 15, 3100-440 Pombal', 37.1234, -122.5678),\n",
    "('Avenida das Pombas 2, 2844-001 Seixal', 38.9876, -121.3456);\n",
    "\n",
    "\n",
    "INSERT INTO works \n",
    "VALUES\n",
    "('12345678910', 'Sales', 'Rua 25 de Abril 15, 3100-440 Pombal'),\n",
    "('10987654321', 'Accounting', 'Avenida das Pombas 2, 2844-001 Seixal');\n",
    "\n",
    "INSERT INTO office \n",
    "VALUES\n",
    "('Rua 25 de Abril 15, 3100-440 Pombal');\n",
    "\n",
    "INSERT INTO warehouse \n",
    "VALUES\n",
    "('Avenida das Pombas 2, 2844-001 Seixal');\n",
    "\n",
    "INSERT INTO product \n",
    "VALUES\n",
    "('1001A', 'Caneta', 'Caneta preta', 1, '3030303030303'),\n",
    "('1002B', 'Móvel', 'Móvel branco de madeira', 35, '4444444444444'),\n",
    "('1003C', 'Cama', 'Cama Queen-Size', 299, '5555555555555');\n",
    "\n",
    "\n",
    "INSERT INTO supplier\n",
    "VALUES\n",
    "('983747222', 'Joana Pereira', 'Rua Verde 230, 2770-022 Paço de Arcos', '1001A', '2023-02-02'),\n",
    "('124455551', 'Jacinto Torres', 'Rua Azul 123, 1500-173 Amadora', '1002B', '2023-01-01'),\n",
    "('525258733', 'Miguel Leal', 'Rua Camoes 17, 7780-217 Castro Verde', '1003C', '2023-03-03');\n",
    "\n",
    "INSERT INTO contains\n",
    "VALUES\n",
    "(101, '1001A', 2),\n",
    "(101, '1002B', 6),\n",
    "(102, '1001A', 2),\n",
    "(103, '1003C', 1),\n",
    "(104, '1003C', 6),\n",
    "(105, '1003C', 1),\n",
    "(106, '1003C', 1),\n",
    "(107, '1003C', 1),\n",
    "(108, '1003C', 1),\n",
    "(109, '1003C', 1),\n",
    "(110, '1003C', 1),\n",
    "(111, '1003C', 1),\n",
    "(112, '1003C', 1),\n",
    "(113, '1003C', 1),\n",
    "(114, '1003C', 1),\n",
    "(115, '1003C', 1),\n",
    "(116, '1003C', 1),\n",
    "(117, '1003C', 1),\n",
    "(118, '1003C', 1);\n",
    "\n",
    "INSERT INTO delivery\n",
    "VALUES\n",
    "('Avenida das Pombas 2, 2844-001 Seixal', 983747222),\n",
    "('Avenida das Pombas 2, 2844-001 Seixal', 124455551),\n",
    "('Avenida das Pombas 2, 2844-001 Seixal', 525258733);\n"
   ]
  },
  {
   "attachments": {},
   "cell_type": "markdown",
   "id": "9772880f-58f0-46c8-9670-737390210bb4",
   "metadata": {
    "tags": []
   },
   "source": [
    "## 1. Restrições de Integridade\n",
    "\n",
    "Apresente o código para implementar as seguintes restrições de integridade, se necessário, com recurso a extensões procedimentais SQL (Stored Procedures e Triggers):"
   ]
  },
  {
   "attachments": {},
   "cell_type": "markdown",
   "id": "a0a92dd6-9093-4f4e-addf-591d83c466b3",
   "metadata": {},
   "source": [
    "(RI-1) Nenhum empregado pode ter menos de 18 anos de idade"
   ]
  },
  {
   "cell_type": "code",
   "execution_count": null,
   "id": "c422052c-0463-46ae-9be1-b6f6ed19d2b9",
   "metadata": {
    "tags": []
   },
   "outputs": [],
   "source": [
    "%%sql\n",
    "ALTER TABLE employee \n",
    "   ADD CONSTRAINT check_18 CHECK (EXTRACT(YEAR FROM AGE(bdate)) > 18);"
   ]
  },
  {
   "attachments": {},
   "cell_type": "markdown",
   "id": "e99193b5-fd48-4601-a226-34432074af53",
   "metadata": {},
   "source": [
    "(RI-2) Um 'Workplace' é obrigatoriamente um 'Office' ou 'Warehouse' mas não pode ser ambos"
   ]
  },
  {
   "cell_type": "code",
   "execution_count": null,
   "id": "188ec396-6e55-4fd3-b436-dcafe454f677",
   "metadata": {
    "tags": []
   },
   "outputs": [],
   "source": [
    "%%sql\n",
    "\n",
    "CREATE OR REPLACE FUNCTION check_workplace_type() RETURNS TRIGGER AS $$\n",
    "DECLARE\n",
    "  office_count INTEGER;\n",
    "  warehouse_count INTEGER;\n",
    "BEGIN\n",
    "  SELECT COUNT(*) INTO office_count FROM office WHERE address = NEW.address;\n",
    "  SELECT COUNT(*) INTO warehouse_count FROM warehouse WHERE address = NEW.address;\n",
    "\n",
    "  IF (office_count > 0 AND warehouse_count > 0) OR (office_count = 0 AND warehouse_count = 0)THEN\n",
    "    RAISE EXCEPTION 'O local de trabalho deve ser um \"Office\" ou \"Warehouse\", mas não pode ser ambos ou nenhum deles.';\n",
    "  END IF;\n",
    "\n",
    "  RETURN NEW;\n",
    "END;\n",
    "$$ LANGUAGE plpgsql;\n",
    "\n",
    "CREATE CONSTRAINT TRIGGER check_workplace_type_trigger\n",
    "AFTER INSERT OR UPDATE ON workplace \n",
    "DEFERRABLE INITIALLY DEFERRED\n",
    "FOR EACH ROW\n",
    "EXECUTE FUNCTION check_workplace_type();"
   ]
  },
  {
   "attachments": {},
   "cell_type": "markdown",
   "id": "7e659751-bbd0-475a-b36e-8d40d7d58a54",
   "metadata": {},
   "source": [
    "(RI-3) Uma 'Order' tem de figurar obrigatoriamente em 'Contains'."
   ]
  },
  {
   "cell_type": "code",
   "execution_count": null,
   "id": "f2993b94-77a8-4b09-b522-f39021c55131",
   "metadata": {
    "tags": []
   },
   "outputs": [],
   "source": [
    "%%sql \n",
    "\n",
    "CREATE OR REPLACE FUNCTION check_order_contains() RETURNS TRIGGER AS $$\n",
    "DECLARE\n",
    "    order_count INTEGER;\n",
    "BEGIN\n",
    "  SELECT COUNT(*) INTO order_count FROM contains WHERE order_no = NEW.order_no;\n",
    "\n",
    "  IF (order_count = 0) THEN\n",
    "    RAISE EXCEPTION 'A ordem deve figurar obrigatoriamente em \"Contains\".';\n",
    "  END IF;\n",
    "\n",
    "  RETURN NEW;\n",
    "END;\n",
    "$$ LANGUAGE plpgsql;\n",
    "\n",
    "CREATE CONSTRAINT TRIGGER check_order_contains_trigger\n",
    "AFTER INSERT OR UPDATE ON orders\n",
    "DEFERRABLE INITIALLY DEFERRED\n",
    "FOR EACH ROW\n",
    "EXECUTE FUNCTION check_order_contains();"
   ]
  },
  {
   "attachments": {},
   "cell_type": "markdown",
   "id": "37637f46-470f-431a-9833-4d8665176450",
   "metadata": {
    "tags": []
   },
   "source": [
    "## 2. Consultas SQL"
   ]
  },
  {
   "attachments": {},
   "cell_type": "markdown",
   "id": "f861ee47-e72b-4633-8dac-b4728ed852b9",
   "metadata": {},
   "source": [
    "Apresente a consulta SQL mais sucinta para cada uma das seguintes questões"
   ]
  },
  {
   "attachments": {},
   "cell_type": "markdown",
   "id": "fd2e1654-059e-4ef5-a63d-5e81280baab0",
   "metadata": {},
   "source": [
    "1) Qual o número e nome do(s) cliente(s) com maior valor total de encomendas pagas?  "
   ]
  },
  {
   "cell_type": "code",
   "execution_count": null,
   "id": "5b79ced0-279d-4e04-921e-0c831d7a79f2",
   "metadata": {
    "tags": []
   },
   "outputs": [],
   "source": [
    "%%sql\n",
    "\n",
    "SELECT cust_no, name \n",
    "FROM customer\n",
    "    JOIN pay USING (cust_no)\n",
    "GROUP BY cust_no\n",
    "HAVING COUNT(*) >= ALL(\n",
    "    SELECT COUNT(*) \n",
    "    FROM customer\n",
    "    JOIN pay USING (cust_no)\n",
    "    GROUP BY cust_no);"
   ]
  },
  {
   "attachments": {},
   "cell_type": "markdown",
   "id": "4f863499-c40e-428c-85e8-d2741362906d",
   "metadata": {},
   "source": [
    "2. Qual o nome dos empregados que processaram encomendas em todos os dias de 2022 em que houve encomendas?"
   ]
  },
  {
   "cell_type": "code",
   "execution_count": null,
   "id": "aadac5e9-d0e4-46e0-bab5-33d00b863884",
   "metadata": {
    "tags": []
   },
   "outputs": [],
   "source": [
    "%%sql\n",
    "SELECT name FROM employee\n",
    "WHERE NOT EXISTS (\n",
    "    SELECT date\n",
    "    FROM orders\n",
    "    WHERE EXTRACT(YEAR FROM date) = 2022\n",
    "    EXCEPT\n",
    "    SELECT date\n",
    "    FROM orders\n",
    "    INNER JOIN process\n",
    "    ON process.order_no = orders.order_no\n",
    "  WHERE process.ssn = employee.ssn\n",
    ");"
   ]
  },
  {
   "attachments": {},
   "cell_type": "markdown",
   "id": "e871bc9e-60c4-465b-a727-9ff2d2115d0b",
   "metadata": {},
   "source": [
    "3. Quantas encomendas foram realizadas mas não pagas em cada mês de 2022?"
   ]
  },
  {
   "cell_type": "code",
   "execution_count": null,
   "id": "3e3e702e-1acb-4004-aa9e-31e4d5916669",
   "metadata": {
    "tags": []
   },
   "outputs": [],
   "source": [
    "%%sql\n",
    "SELECT EXTRACT(MONTH FROM date) AS month, COUNT(*) AS num_orders\n",
    "FROM orders\n",
    "WHERE EXTRACT(YEAR FROM date) = 2022\n",
    "AND NOT EXISTS (\n",
    "  SELECT *\n",
    "  FROM pay\n",
    "  WHERE pay.order_no = orders.order_no\n",
    ")\n",
    "GROUP BY month;"
   ]
  },
  {
   "attachments": {},
   "cell_type": "markdown",
   "id": "97f45cec-fe42-418a-b85d-c9e51807a42c",
   "metadata": {},
   "source": [
    "## 3. Vistas"
   ]
  },
  {
   "attachments": {},
   "cell_type": "markdown",
   "id": "03062b56-40fa-41c0-aac9-3e77b9049c27",
   "metadata": {},
   "source": [
    "Crie uma vista que resuma as informações mais importantes sobre as vendas de produtos, combinando informações de diferentes tabelas do esquema de base de dados. A vista deve ter o seguinte esquema:\n",
    "\n",
    "product_sales(sku, order_no, qty, total_price, year, month, day_of_month, day_of_week, city)"
   ]
  },
  {
   "cell_type": "code",
   "execution_count": null,
   "id": "0bbb2226-5de4-4051-b4c0-9130bd4904f5",
   "metadata": {
    "tags": []
   },
   "outputs": [],
   "source": [
    "%%sql\n",
    "CREATE VIEW product_sales AS\n",
    "SELECT c.SKU, o.order_no, c.qty, (c.qty * p.price) AS total_price, EXTRACT(YEAR FROM o.date) AS year,\n",
    "       EXTRACT(MONTH FROM o.date) AS month, EXTRACT(DAY FROM o.date) AS day_of_month,\n",
    "       EXTRACT(DOW FROM o.date) AS day_of_week, \n",
    "       SUBSTRING(cust.address, LENGTH(cust.address) - POSITION(',' IN REVERSE(cust.address)) + 2) AS city\n",
    "FROM contains c\n",
    "JOIN orders o ON c.order_no = o.order_no\n",
    "JOIN pay py ON o.order_no = py.order_no\n",
    "JOIN product p ON c.SKU = p.SKU\n",
    "JOIN customer cust ON o.cust_no = cust.cust_no;"
   ]
  },
  {
   "attachments": {},
   "cell_type": "markdown",
   "id": "6b615865-602f-4974-9de1-27d0060362ef",
   "metadata": {
    "tags": []
   },
   "source": [
    "## 4. Desenvolvimento de Aplicação"
   ]
  },
  {
   "attachments": {},
   "cell_type": "markdown",
   "id": "0bad635d-f5c2-449f-97b0-90d10a4d482b",
   "metadata": {},
   "source": [
    "### Explicação da arquitetura da aplicação web, incluindo um link para uma versão de trabalho e as relações entre os vários ficheiros na pasta web/arquivos\n",
    "\n",
    "### Introdução\n",
    "A web app desenvolvida apresenta um Sistema de Gestão de Encomendas de Clientes - BDelivery - implementado em Python, que auxilia na gestão eficiente de encomendas, produtos, clientes e fornecedores.\n",
    "\n",
    "### Visão Geral do Sistema\n",
    "O Sistema BDelivery é uma aplcicação web desenvolvida em Python com o framework Flask. Utiliza uma base de dados PostgreSQL (integrada na aplicação com a biblioteca psycopg3)  para armazenar informações de clientes, encomendas, produtos e fornecedores. A apresentação dos dados utiliza templates HTML, com CSS do framework Tailwind.\n",
    "\n",
    "### Funcionalidades\n",
    "- Gestão de Clientes: Listagem, inserção, edição e remoção de clientes.\n",
    "- Gestão de Encomendas: Listagem, inserção e pagamentos¹ de encomendas.\n",
    "- Gestão de Produtos: Listagem, inserção, edição e remoção de produtos disponíveis.\n",
    "- Gestão de Fornecedores: Listagem, inserção e remoção de fornecedores.\n",
    "- Paginação: Exibição limitada de itens por página. ²\n",
    "$$\n",
    "\\begin {align*}\n",
    "& \\text{¹ - A funcionalidade de pagamento de encomendas apenas está disponível a partir do cliente que as realizou.}\\newline\n",
    "& \\text{² - São exibidos até 15 itens por página.}\n",
    "\\end{align*}\n",
    "$$\n",
    "\n",
    "\n",
    "### Componentes do Sistema\n",
    "- Aplicação Web Flask: Construída com Flask para lidar com pedidos HTTP.\n",
    "- Base de Dados PostgreSQL: Armazena e gerencia informações do sistema.\n",
    "- Templates HTML: Apresentação de páginas web³ \n",
    "- Função de Paginação: Melhora a navegação ao exibir números de página apropriados.\n",
    "$$\\begin {align*}\n",
    "& \\text{³ - Foi criado, para cada categoria uma diretoria que contém um template para cada um  das funcionalidades de inserção, listagem e edição que lhe pertencem. }\n",
    "\\end {align*}\n",
    "$$\n",
    "\n",
    "\n",
    "### Segurança\n",
    "Existem dois grandes vetores de possível violação da segurança da aplicação web: injeção de dados arbitrários nas consultas SQL e injeção arbitrária no frontend ( por via dos placeholders contidos nos templates de HTML). O caso de injeção SQL é salvaguardado pela sanitização automática dos placeholders das consultas pela biblioteca psycopg3. O mesmo acontece no caso dos placeholders das templates de Jinja: esta biblioteca, por omissão, sanitiza todos os placeholders para que não ocorra injeção de código HTML arbirtário por estas.\n",
    "\n",
    "\n",
    "### Conclusão\n",
    "O Sistema de Gestão de Encomendas de Clientes oferece uma interface web amigável para a gestão de encomendas e informações de produtos. Com recursos como gestão de clientes, encomendas, fornecedores e produtos, o sistema visa otimizar os processos de negócio.\n",
    "\n",
    "\n",
    "\n",
    "\n"
   ]
  },
  {
   "attachments": {},
   "cell_type": "markdown",
   "id": "5dff0f43-90cc-4ab5-b874-c3fb24776728",
   "metadata": {},
   "source": [
    "## 5. Consultas OLAP"
   ]
  },
  {
   "attachments": {},
   "cell_type": "markdown",
   "id": "5c8c25ed-b858-4daf-a291-b59e489c0a44",
   "metadata": {},
   "source": [
    "Usando a vista desenvolvida para a Questão 3, escreva duas consultas SQL que permitam analisar:"
   ]
  },
  {
   "attachments": {},
   "cell_type": "markdown",
   "id": "bd8d173c-e72f-4e89-8949-e2df3b7b07a3",
   "metadata": {},
   "source": [
    "1. As quantidade e valores totais de venda de cada produto em 2022, globalmente, por cidade, por mês, dia do mês e dia da semana"
   ]
  },
  {
   "cell_type": "code",
   "execution_count": null,
   "id": "bf12ce01-15c0-4e7c-b329-576dd344ebf6",
   "metadata": {
    "tags": []
   },
   "outputs": [],
   "source": [
    "%%sql\n",
    "SELECT\n",
    "    SKU,\n",
    "    city,\n",
    "    month,\n",
    "    day_of_month,\n",
    "    day_of_week,\n",
    "    SUM(qty) AS total_quantity,\n",
    "    SUM(total_price) AS total_sales\n",
    "FROM product_sales\n",
    "WHERE year = 2022\n",
    "GROUP BY GROUPING SETS((SKU), (SKU, city), (SKU, month), (SKU, day_of_month),(SKU, day_of_week))\n",
    "ORDER BY SKU, city, month, day_of_month, day_of_week;\n"
   ]
  },
  {
   "attachments": {},
   "cell_type": "markdown",
   "id": "a6f88296-429c-4c1c-9a7a-5cbe9cb65920",
   "metadata": {},
   "source": [
    "2. O valor médio diário das vendas em 2022, globalmente, por mês e dia da semana"
   ]
  },
  {
   "cell_type": "code",
   "execution_count": null,
   "id": "7aac0901-02ad-4a40-964e-dc03430f8e77",
   "metadata": {
    "tags": []
   },
   "outputs": [],
   "source": [
    "%%sql\n",
    "DROP TABLE IF EXISTS dateD;\n",
    "CREATE TABLE dateD (\n",
    "  date DATE,\n",
    "  month INT,\n",
    "  day_of_week INT,\n",
    "  day_of_month INT\n",
    ");\n",
    "\n",
    "INSERT INTO dateD (date, month, day_of_week, day_of_month)\n",
    "SELECT\n",
    "  date,\n",
    "  EXTRACT(MONTH FROM date) AS month,\n",
    "  EXTRACT(DOW FROM date) AS day_of_week, \n",
    "  EXTRACT(DAY FROM date) AS day_of_month\n",
    "FROM generate_series('2022-01-01'::date, '2022-12-31'::date, '1 day'::interval) AS date;\n",
    "\n",
    "WITH tmp AS (SELECT d.date as dateS, d.month, d.day_of_week, SUM(COALESCE(p.total_price, 0)) as TOTPRICE\n",
    "    FROM dateD d\n",
    "    LEFT JOIN product_sales p ON (p.month = d.month AND p.day_of_month = d.day_of_month AND EXTRACT(YEAR FROM d.date) = p.year AND p.year = 2022)\n",
    "    GROUP BY (d.date, d.month, d.day_of_week)\n",
    "    ORDER BY d.date)\n",
    "\n",
    "SELECT month, day_of_week, ROUND(AVG(totprice),2) as average\n",
    "  FROM tmp\n",
    "  GROUP BY GROUPING SETS ((), (month), (day_of_week))\n",
    "  ORDER BY month, day_of_week;"
   ]
  },
  {
   "attachments": {},
   "cell_type": "markdown",
   "id": "5a75300b-51d0-4512-8b50-ffac98d66070",
   "metadata": {
    "tags": []
   },
   "source": [
    "## 6. Índices"
   ]
  },
  {
   "attachments": {},
   "cell_type": "markdown",
   "id": "35f160cc-30e9-4381-9b3e-0d78ef421af8",
   "metadata": {
    "tags": []
   },
   "source": [
    "Indique, com a devida justificação, que tipo de índice(s), sobre qual(is) atributo(s) e sobre qual(is) tabela(s) faria sentido criar, de forma a agilizar a execução de cada uma das seguintes consultas: "
   ]
  },
  {
   "attachments": {},
   "cell_type": "markdown",
   "id": "6e6e7eb2-c8ba-4d93-a31b-a2384d538fc0",
   "metadata": {},
   "source": [
    "### 6.1\n",
    "SELECT order_no\n",
    "FROM orders \n",
    "JOIN contains USING (order_no) \n",
    "JOIN product USING (SKU) \n",
    "WHERE price > 50 AND \n",
    "EXTRACT(YEAR FROM date) = 2023"
   ]
  },
  {
   "attachments": {},
   "cell_type": "markdown",
   "id": "b12768c7-efcc-4550-a7c1-7f8bbafd6409",
   "metadata": {},
   "source": [
    "### Tipo de Índice, Atributos & Justificação"
   ]
  },
  {
   "cell_type": "code",
   "execution_count": null,
   "id": "506b88b6",
   "metadata": {},
   "outputs": [],
   "source": [
    "%%sql\n",
    "\n",
    "CREATE INDEX idx_order_date ON orders(date);\n",
    "CREATE INDEX product_price ON product(price);"
   ]
  },
  {
   "attachments": {},
   "cell_type": "markdown",
   "id": "d25c5ac0",
   "metadata": {},
   "source": [
    "\n",
    "\n",
    "- justificação:\n",
    "\n",
    "    No primeiro JOIN, como order_no é uma chave primária de order, pelo que não faz sentido criar um índice.\n",
    "\n",
    "    No segundo JOIN como SKU integra a chave primária, pelo que não faz sentido criar um índice.\n",
    "\n",
    "    idx_order_date é um indice que orderna a tabela orders pela coluna date. O índice é criado na tabela orders, sobre o atributo date, que é o atributo que está a ser comparado na condição de seleção. Escolheu-se um indice do tipo btree, pois a procura é feita pelo range de datas (datas com o ano 2023).\n",
    "\n",
    "    idx_product_price é um indice que orderna a tabela product pela coluna price. O índice é criado na tabela product, sobre o atributo price, que é o atributo que está a ser comparado na condição de seleção. Escolheu-se um indice do tipo btree, pois a procura é feita pelo range de preços (preços maiores que 50).\n",
    "\n",
    "\n",
    "\n",
    "    \n"
   ]
  },
  {
   "attachments": {},
   "cell_type": "markdown",
   "id": "89f6cb2b-8425-42f8-810c-9c9e5797b686",
   "metadata": {},
   "source": [
    "### 6.2\n",
    "SELECT order_no, SUM(qty*price)\n",
    "FROM contains \n",
    "JOIN product USING (SKU) \n",
    "WHERE name LIKE ‘A%’ \n",
    "GROUP BY order_no;"
   ]
  },
  {
   "attachments": {},
   "cell_type": "markdown",
   "id": "1af12988-e1f5-4a72-835d-9aba30d0ce88",
   "metadata": {
    "tags": []
   },
   "source": [
    "### Tipo de Índice, Atributos & Justificação"
   ]
  },
  {
   "cell_type": "code",
   "execution_count": null,
   "id": "a7114b7c-76e5-4ab7-a394-f0aca1656dd3",
   "metadata": {},
   "outputs": [],
   "source": [
    "%%sql\n",
    "\n",
    "CREATE INDEX idx_product_name ON product(name);\n",
    "CREATE INDEX idx_contains_sku ON contains USING HASH(SKU);"
   ]
  },
  {
   "attachments": {},
   "cell_type": "markdown",
   "id": "5e6e6c87",
   "metadata": {},
   "source": [
    "- justificação:\n",
    "    \n",
    "    O GROUP BY order_no beneficia de um indice em contains, no entanto o PostgresSQL já cria um indice para order_no pelo facto de fazer parte da chave primaria. Como o planer já usa esse indice não faz sentido criar outro.\n",
    "\n",
    "    Da mesma forma, como o SKU é chave primária de product, não é necessário criar um indice para esta variável, no âmbito do JOIN product USING(SKU).\n",
    "\n",
    "    idx_product_name é um indice que ordena a tabela products pela coluna name. Visto que a variável name tem de ter um prefixo \"A\", como indicado na comparação WHERE name LIKE 'A%', criou-se um índice do tipo btree sobre a variável name, na tabela product. Foi escolhido o tipo btree para o índice visto que este tipo é capaz de agilizar operações de pattern matching.\n",
    "\n",
    "    idx_contains_sku é um indice que ordena a tabela contains pela coluna SKU. O objetivo é melhorar eficiencia do JOIN entre contains e product. O contains está organizado fisicamente pela chave primária (order_no, sku) enquanto products está por (sku). Ao criar um indice sobre SKU em contains, o PostgresSQL pode usar o indice para aceder a contains de forma mais eficiente. Usou-se um indice do tipo hash pois procura-se o valor exato do SKU e não um range de valores."
   ]
  }
 ],
 "metadata": {
  "language_info": {
   "name": "python"
  }
 },
 "nbformat": 4,
 "nbformat_minor": 5
}
