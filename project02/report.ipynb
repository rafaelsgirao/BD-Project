{
 "cells": [
  {
   "attachments": {},
   "cell_type": "markdown",
   "id": "7721816f-456c-41e6-85e4-3a346bf81b63",
   "metadata": {},
   "source": [
    "# Projeto de Bases de Dados - Parte 2\n",
    "\n",
    "### Docente Responsável\n",
    "\n",
    "Prof. Daniel Faria\n",
    "\n",
    "### Grupo 03 - Lab 14\n",
    "<dl>\n",
    "    <dt>15 horas (33.3%)</dt>\n",
    "    <dd>ist199309 Rafael Girão</dd>\n",
    "    <dt>15 horas (33.3%)</dt>\n",
    "    <dd>ist102082 Simão Sanguinho</dd>\n",
    "    <dt>15 horas (33.3%)</dt>\n",
    "    <dd>ist103252 José Pereira</dd>\n",
    "<dl>\n",
    "\n",
    "$$\n",
    "\\newcommand{\\op}{\\text}\n",
    "\\newcommand{\\sop}{_\\text}\n",
    "$$"
   ]
  },
  {
   "attachments": {},
   "cell_type": "markdown",
   "id": "1c5deb6e-396e-401f-9b09-af4cd09491a9",
   "metadata": {
    "tags": []
   },
   "source": [
    "# Empresa de comércio online"
   ]
  },
  {
   "attachments": {},
   "cell_type": "markdown",
   "id": "9772880f-58f0-46c8-9670-737390210bb4",
   "metadata": {
    "tags": []
   },
   "source": [
    "## 1 Conversão E-A para Modelo Relacional\n",
    "\n",
    "Recorde a notação para o Modelo Relacional exposta nas aulas teóricas como se segue:\n",
    "\n",
    "- relacaoA (<u>atributo1</u>, … , atributoN)\n",
    "    - atributoX, … , atributoZ: FK (RelacaoDestino)\n",
    "    - unique(atributoA, … , AtributoC)\n",
    "- relacaoB (<u>atributo1</u>, … , atributoN)\n",
    "    - atributoX, … , atributoZ: FK (RelacaoDestino)\n",
    "    - unique(atributoA, … , AtributoC)\n",
    "\n",
    "1. As relações são expressas por um nome seguido dos atributos entre parêntesis;\n",
    "    - As chave primárias são expressas sublinhando os atributos que a compõem;\n",
    "    - As chaves estrangeiras para outras relações são expressas através da lista de atributos que a compõem, seguida de “: FK(RelacaoDestino)”. A ordem dos atributos que compõem a FK deve corresponder à ordem dos atributos da chave na relação destino;\n",
    "    - As chaves candidatas são expressas através da expressão “unique”, seguida da lista de atributos que a compõem entre parêntesis;\n",
    "    - As restrições de integridade ao Modelo Relacional são descritas em termos dos conceitos deste modelo."
   ]
  },
  {
   "attachments": {},
   "cell_type": "markdown",
   "id": "664e4242-9646-4d1a-9dac-4d8d4efd4ad6",
   "metadata": {},
   "source": [
    "### 1.1 Modelo Relacional com Restrições de Integridade\n",
    "\n",
    "1. Desenvolva um Modelo Relacional correspondente ao modelo Entidade-Associação;\n",
    "2. Complemente a seu Modelo Relacional com um conjunto de Restrições de Integridade que represente o modelo E-A apresentado com a maior fidelidade."
   ]
  },
  {
   "attachments": {},
   "cell_type": "markdown",
   "id": "28f1998a-b5d6-41b5-851c-4318bb556cb8",
   "metadata": {},
   "source": [
    "- Customer(<u>cust_no</u>, name, email, phone, address) \n",
    "    - UNIQUE(email) \n",
    "$$$$\n",
    "               \n",
    "- Order(<u>order_no</u>, date, cust_no)\n",
    "    - cust_no: FK(Customer) NOT NULL\n",
    "$$$$\n",
    "- Sale(<u>order_no</u>)\n",
    "    - order_no: FK(Order)\n",
    "$$$$\n",
    "- pay(<u>order_no</u>, cust_no)\n",
    "    - order_no: FK(Order)\n",
    "    - cust_no: FK(Customer) NOT NULL\n",
    "$$$$\n",
    "- Employee(<u>ssn</u>, TIN, bdate, name)\n",
    "    - UNIQUE(TIN)\n",
    "$$$$\n",
    "- process(<u>ssn</u>, <u>order_no</u>)\n",
    "    - ssn: FK(Employee)\n",
    "    - order_no: FK(Order)\n",
    "$$$$\n",
    "- Department(<u>name</u>)\n",
    "$$$$\n",
    "- Workplace(<u>address</u>, lat, long)\n",
    "    - UNIQUE(lat, long)\n",
    "$$$$\n",
    "- works(<u>ssn</u>, <u>name</u>, <u>address</u>)\n",
    "    - ssn: FK(Employee)\n",
    "    - name: FK(Department)\n",
    "    - address: FK(Workplace)\n",
    "$$$$\n",
    "- Office(<u>address</u>)\n",
    "    - address: FK(Workplace)\n",
    "$$$$\n",
    "- Warehouse(<u>address</u>)\n",
    "    - address: FK(Workplace)\n",
    "$$$$\n",
    "- Product(<u>sku</u>, name, description, price)\n",
    "$$$$\n",
    "- EAN_Product(<u>sku</u>, ean)\n",
    "    - sku: FK(Product)\n",
    "$$$$\n",
    "- Supplier(<u>TIN</u>, name, address)\n",
    "$$$$\n",
    "- contains(<u>order_no</u>, <u>sku</u>, qty)\n",
    "    - order_no: FK(Order)\n",
    "    - sku: FK(Product)\n",
    "$$$$\n",
    "- supply_contract(<u>TIN</u>, sku, date)\n",
    "    - TIN: FK(Supplier)\n",
    "    - sku: FK(Product) NOT NULL\n",
    "$$$$\n",
    "- delivery(<u>address</u>, <u>TIN</u>)\n",
    "    - address: FK(Warehouse)\n",
    "    - TIN: FK(Supplier)\n",
    "$$$$\n",
    "    \n",
    "<br> Restrições de Integridade </br>\n",
    "\n",
    "- IC-2 - Every Employee (ssn) must participate in the works association\n",
    "- IC-3 - Every Order (order_no) must participate in the contains association\n",
    "- IC-4 - Every Product (sku) must participate in the supply-contract association\n",
    "- IC-5 - Every Supplier (TIN) must participate in the supply-contract association\n",
    "\n"
   ]
  },
  {
   "attachments": {},
   "cell_type": "markdown",
   "id": "f524e1ac-1589-4a49-a709-ad91c6421260",
   "metadata": {},
   "source": [
    "### 1.2 Restrições de Integridade não passíveis de conversão\n",
    "\n",
    "Identifique todas as Restrições de Integridade do modelo Entidade-Associação apresentado que não são passíveis de conversão para o modelo relacional."
   ]
  },
  {
   "attachments": {},
   "cell_type": "markdown",
   "id": "a5cf04b8-494d-4f83-9a36-bdfb4653b2b1",
   "metadata": {},
   "source": [
    "- IC-1 - Customers can only pay for the sale of an order they have placed themselves"
   ]
  },
  {
   "attachments": {},
   "cell_type": "markdown",
   "id": "642bc461-91b7-4960-9dd8-12455cf2ba61",
   "metadata": {},
   "source": [
    "## 2 Algebra Relacional\n",
    "\n",
    "Recorde a notação exposta nas aulas teóricas como se segue:\n",
    "\n",
    "$\\Pi_{atributo1} \\big( \\sigma_{atributo1=atributo2} (relacaoA \\bowtie relacaoB) \\big)$\n",
    "\n",
    "#### Simbolos\n",
    "- $\\cup$ union \t\t\t\n",
    "- $\\cap$ intersection \t\t\n",
    "- $-$ difference \t\t\n",
    "- $\\times$ cartesian product \n",
    "- $\\div$ division \t\t\t\n",
    "- $\\rho$ rename \t\t\t\n",
    "- $\\bowtie$ natural join \t\t\n",
    "- $\\wedge$ Logical AND \t\n",
    "- $\\vee$ Logical OR \t\n",
    "- $\\neg$ Logical NOT \t\n",
    "\n",
    "Considerando o modelo relacional desenvolvido, apresente as expressões algébricas correspondentes a cada uma das seguintes interrogações:"
   ]
  },
  {
   "attachments": {},
   "cell_type": "markdown",
   "id": "8246494b-f88b-4849-8515-67001c796cf8",
   "metadata": {
    "tags": []
   },
   "source": [
    "1. Liste o nome de todos os clientes que fizeram encomendas contendo produtos de preço superior a €50 no ano de 2023;"
   ]
  },
  {
   "attachments": {},
   "cell_type": "markdown",
   "id": "fb153d59-2d55-484f-bed9-0c60e02b27ae",
   "metadata": {},
   "source": [
    "$$\n",
    "\\begin {align*}\n",
    "& \\Pi\\op{(name)} ( \\\\\n",
    "& \\qquad \\op{Customer} \\\\\n",
    "& \\qquad \\bowtie \\\\\n",
    "& \\qquad  \\sigma_{\\op{date} \\geq \\op{``2023-01-01''} \\land \\op{date} \\leq \\op{``2023-12-31''} \\land \\op{price} \\gt \\op{50}} \\op{(} \\\\\n",
    "& \\qquad \\qquad \\op{Order} \\bowtie \\op{contains} \\bowtie \\rho_{\\op{name} \\mapsto \\op{product\\_name}} \\op{(Product)} \\\\\n",
    "& \\qquad )\\\\\n",
    "& ) \n",
    "\\end {align*}\n",
    "$$"
   ]
  },
  {
   "attachments": {},
   "cell_type": "markdown",
   "id": "7fb1b56e-8173-4c29-8155-b487003dc522",
   "metadata": {},
   "source": [
    "2. Liste o nome de todos os empregados que trabalham em armazéns e não em escritórios e processaram encomendas em Janeiro de 2023;"
   ]
  },
  {
   "attachments": {},
   "cell_type": "markdown",
   "id": "01c30a54-83d4-43c1-a7b2-871cef8552ec",
   "metadata": {},
   "source": [
    "$$\n",
    "\\begin {align*}\n",
    "& \\Pi_{name}\\op{(} \\\\\n",
    "& \\qquad \\op{Employees} \\\\\n",
    "& \\qquad \\bowtie \\\\\n",
    "& \\qquad \\sigma_{\\op{date} \\geq \\op{ ``2023-01-01'' } \\land \\op{date} \\leq \\op{``2023-01-31''}} \\op{(} \\\\\n",
    "& \\qquad \\qquad \\op{( Order} \\bowtie \\op{process)} \\\\\n",
    "& \\qquad \\bowtie \\\\\n",
    "& \\qquad \\op{(Warehouse - Office)} \\bowtie \\rho_{\\op{name} \\mapsto \\op{department\\_name}}\\op{(works)} \\\\\n",
    "& )\n",
    "\\end {align*}\n",
    "$$"
   ]
  },
  {
   "attachments": {},
   "cell_type": "markdown",
   "id": "28bddbbb-11cc-4588-9d0b-61e04e09d7ec",
   "metadata": {},
   "source": [
    "3. Indique o nome do produto mais vendido;"
   ]
  },
  {
   "attachments": {},
   "cell_type": "markdown",
   "id": "e0411d6f-5cc9-4d4a-a70f-d3a3957b1111",
   "metadata": {},
   "source": [
    "$$\n",
    "\\begin {align*}\n",
    "& \\op{sales} \\leftarrow \\op{Sale} \\bowtie \\op{contains} \\\\\n",
    "& \\op{qty\\_sold\\_by\\_product} \\leftarrow \\sop{sku}G\\sop{sum(qty)}\\op{(sales)} \\\\\n",
    "& \\op{non\\_most\\_sold\\_product} \\leftarrow \\sigma_{\\op{p1.qty } \\lt \\op{ p2.qty}}\\op{(} \\\\\n",
    "& \\qquad \\rho_{p1}\\op{(qty\\_sold\\_by\\_product)} \\times \\rho_{\\op{p2}}\\op{(qty\\_sold\\_by\\_product)} \\\\\n",
    "& \\op{)} \\\\\n",
    "& \\op{most\\_sold\\_product} \\leftarrow \\Pi \\sop{sku}\\op{(} \\\\\n",
    "& \\qquad \\op{qty\\_sold\\_by\\_product} \\\\\n",
    "& \\qquad \\op{-} \\\\\n",
    "& \\qquad  \\rho_{\\op{p1.sku } \\mapsto \\op{ sku}} (\\Pi\\sop{p1.sku}\\op{(non\\_most\\_sold\\_product})) \\\\\n",
    "& \\op{)} \\\\\n",
    "& \\Pi \\sop{name}  \\op{(most\\_sold\\_product} \\bowtie \\op{Product)}\n",
    "\n",
    "\\end {align*}\n",
    "$$"
   ]
  },
  {
   "attachments": {},
   "cell_type": "markdown",
   "id": "1efe4041-a42e-44d8-830e-d2692fab7793",
   "metadata": {},
   "source": [
    "4. Indique o valor total de cada venda realizada."
   ]
  },
  {
   "attachments": {},
   "cell_type": "markdown",
   "id": "31ba6844-b37c-40df-9745-7db2f3254fda",
   "metadata": {},
   "source": [
    "$$\n",
    "\\begin {align*}\n",
    "& \\sop{order\\_no} G \\sop{sum(total\\_price)} ( \\\\\n",
    "& \\qquad \\rho_{\\op{ qty} \\times \\op{price } \\mapsto \\op{ total\\_price}} ( \\\\\n",
    "& \\qquad \\qquad \\Pi _{\\op{order\\_no, sku, qty} \\times \\op{price}} ( \\\\\n",
    "& \\qquad \\qquad \\qquad \\op{Sale} \\bowtie \\op{contains} \\bowtie \\op{Product} \\\\\n",
    "& \\qquad \\qquad ) \\\\\n",
    "& \\qquad ) \\\\\n",
    "& )\n",
    "\\end {align*}\n",
    "$$"
   ]
  },
  {
   "attachments": {},
   "cell_type": "markdown",
   "id": "79967746-e9fd-4e5d-955e-4ae33b815dbf",
   "metadata": {},
   "source": [
    "## 3 Tradução do Modelo Relacional para SQL"
   ]
  },
  {
   "attachments": {},
   "cell_type": "markdown",
   "id": "ad573c6d-c9cc-401b-ab2b-8f86923be802",
   "metadata": {
    "tags": []
   },
   "source": [
    "### 3.1 Esquema Relacional (schema.sql)\n",
    "\n",
    "Crie uma base de dados SQL correspondente ao esquema Relacional desenvolvido no ponto anterior.\n",
    "Utilizando a linguagem SQL (DDL), apresente as instruções para criar o esquema de bases de dados correspondente ao modelo relacional desenvolvido. Deve certificar-se de que os tipos de dados e tamanhos de campo selecionados sejam os mais apropriados. As restrições aplicáveis a cada campo, linha e tabela também devem ser especificadas recorrendo às instruções NOT NULL, CHECK, PRIMARY KEY, UNIQUE e FOREIGN KEY conforme seja apropriado.\n",
    "\n",
    "\n",
    "Nota: Apresente todas as restrições existentes no modelo Relacional que não podem ser capturadas (implementadas) no esquema SQL, escrevendo-as como comentários na tabela respectiva.\n"
   ]
  },
  {
   "cell_type": "code",
   "execution_count": null,
   "id": "195436d2-5bb5-4ab8-879b-b7ca19fb8d8a",
   "metadata": {
    "tags": []
   },
   "outputs": [],
   "source": [
    "%load_ext sql\n",
    "%sql postgresql://db:db@postgres/db"
   ]
  },
  {
   "cell_type": "code",
   "execution_count": null,
   "id": "7dad4bdb-454b-4e0a-af55-93580ab2b56c",
   "metadata": {
    "tags": []
   },
   "outputs": [],
   "source": [
    "%%sql\n",
    "-- schema.sql\n",
    "\n",
    "DROP TABLE IF EXISTS Customer CASCADE;\n",
    "DROP TABLE IF EXISTS Sale CASCADE;\n",
    "DROP TABLE IF EXISTS Pay CASCADE;\n",
    "DROP TABLE IF EXISTS Employee CASCADE;\n",
    "DROP TABLE IF EXISTS Process CASCADE;\n",
    "DROP TABLE IF EXISTS Department CASCADE;\n",
    "DROP TABLE IF EXISTS Workplace CASCADE;\n",
    "DROP TABLE IF EXISTS Works CASCADE;\n",
    "DROP TABLE IF EXISTS Office CASCADE;\n",
    "DROP TABLE IF EXISTS Warehouse CASCADE;\n",
    "DROP TABLE IF EXISTS Product CASCADE;\n",
    "DROP TABLE IF EXISTS EAN_Product CASCADE;\n",
    "DROP TABLE IF EXISTS Supplier CASCADE;\n",
    "DROP TABLE IF EXISTS contains_ CASCADE;\n",
    "DROP TABLE IF EXISTS supply_contract CASCADE;\n",
    "DROP TABLE IF EXISTS Delivery CASCADE;\n",
    "DROP TABLE IF EXISTS Order_ CASCADE;\n",
    "\n",
    "\n",
    "CREATE TABLE Customer (\n",
    "  cust_no INT PRIMARY KEY,\n",
    "  name VARCHAR,\n",
    "  email VARCHAR UNIQUE,\n",
    "  phone NUMERIC(9),\n",
    "  address VARCHAR\n",
    ");\n",
    "\n",
    "CREATE TABLE Order_ (\n",
    "  order_no INT PRIMARY KEY,\n",
    "  date DATE,\n",
    "  cust_no INT  NOT NULL,\n",
    "  FOREIGN KEY (cust_no) REFERENCES Customer(cust_no)\n",
    ");\n",
    "\n",
    "CREATE TABLE Sale (\n",
    "  order_no INT PRIMARY KEY,\n",
    "  FOREIGN KEY (order_no) REFERENCES Order_(order_no)\n",
    ");\n",
    "\n",
    "CREATE TABLE pay (\n",
    "  order_no INT,\n",
    "  cust_no INT NOT NULL,\n",
    "  PRIMARY KEY (order_no, cust_no),\n",
    "  FOREIGN KEY (order_no) REFERENCES Order_(order_no),\n",
    "  FOREIGN KEY (cust_no) REFERENCES Customer(cust_no)\n",
    "  -- IC - Customers can only pay for the sale of an order they have placed themselves  \n",
    ");\n",
    "\n",
    "CREATE TABLE Employee (\n",
    "  ssn VARCHAR(11) PRIMARY KEY,\n",
    "  TIN NUMERIC(9, 0) UNIQUE,\n",
    "  bdate DATE,\n",
    "  name VARCHAR\n",
    ");\n",
    "\n",
    "CREATE TABLE process (\n",
    "  ssn VARCHAR(11),\n",
    "  order_no INT,\n",
    "  PRIMARY KEY (ssn, order_no),\n",
    "  FOREIGN KEY (ssn) REFERENCES Employee(ssn),\n",
    "  FOREIGN KEY (order_no) REFERENCES Order_(order_no)\n",
    ");\n",
    "\n",
    "CREATE TABLE Department (\n",
    "  name VARCHAR PRIMARY KEY\n",
    ");\n",
    "\n",
    "CREATE TABLE Workplace (\n",
    "  address VARCHAR PRIMARY KEY,\n",
    "  latitude NUMERIC(6, 4),\n",
    "  longitude NUMERIC(7, 4),\n",
    "  UNIQUE(latitude, longitude)\n",
    ");\n",
    "\n",
    "CREATE TABLE works (\n",
    "  ssn VARCHAR(11),\n",
    "  name VARCHAR,\n",
    "  address VARCHAR,\n",
    "  PRIMARY KEY (ssn, name, address),\n",
    "  FOREIGN KEY (ssn) REFERENCES Employee(ssn),\n",
    "  FOREIGN KEY (name) REFERENCES Department(name),\n",
    "  FOREIGN KEY (address) REFERENCES Workplace(address)\n",
    ");\n",
    "\n",
    "CREATE TABLE Office (\n",
    "  address VARCHAR PRIMARY KEY,\n",
    "  FOREIGN KEY (address) REFERENCES Workplace(address)\n",
    ");\n",
    "\n",
    "CREATE TABLE Warehouse (\n",
    "  address VARCHAR PRIMARY KEY,\n",
    "  FOREIGN KEY (address) REFERENCES Workplace(address)\n",
    ");\n",
    "\n",
    "CREATE TABLE Product (\n",
    "  sku VARCHAR PRIMARY KEY,\n",
    "  name VARCHAR,\n",
    "  description VARCHAR,\n",
    "  price INT     -- in cents\n",
    ");\n",
    "\n",
    "\n",
    "CREATE TABLE EAN_Product (\n",
    "  sku VARCHAR PRIMARY KEY,\n",
    "  ean NUMERIC(13, 0),\n",
    "  FOREIGN KEY (sku) REFERENCES Product(sku)\n",
    ");\n",
    "\n",
    "CREATE TABLE Supplier (\n",
    "  TIN NUMERIC(9, 0) PRIMARY KEY,\n",
    "  name VARCHAR,\n",
    "  address VARCHAR\n",
    ");\n",
    "\n",
    "CREATE TABLE contains_ (\n",
    "  order_no INT,\n",
    "  sku VARCHAR,\n",
    "  qty INT,\n",
    "  PRIMARY KEY (order_no, sku),\n",
    "  FOREIGN KEY (order_no) REFERENCES Order_(order_no),\n",
    "  FOREIGN KEY (sku) REFERENCES Product(sku)\n",
    ");\n",
    "\n",
    "CREATE TABLE supply_contract (\n",
    "  TIN NUMERIC(9, 0),\n",
    "  sku VARCHAR,\n",
    "  date DATE,\n",
    "  PRIMARY KEY (TIN, sku),\n",
    "  FOREIGN KEY (TIN) REFERENCES Supplier(TIN),\n",
    "  FOREIGN KEY (sku) REFERENCES Product(sku)\n",
    ");\n",
    "\n",
    "CREATE TABLE Delivery (\n",
    "  address VARCHAR,\n",
    "  TIN NUMERIC(9, 0),\n",
    "  PRIMARY KEY (address, TIN),\n",
    "  FOREIGN KEY (address) REFERENCES Warehouse(address),\n",
    "  FOREIGN KEY (TIN) REFERENCES Supplier(TIN)\n",
    ");"
   ]
  },
  {
   "attachments": {},
   "cell_type": "markdown",
   "id": "9bfabefe-cc1f-4544-8024-39bcdd065bba",
   "metadata": {},
   "source": [
    "### 3.2 Carregamento da Base de Dados\n",
    "\n",
    "Crie um script SQL (DML) com todas as instruções INSERT necessárias para criar alguns dados de teste sintéticos para facilitar a validação dos resultados esperados das consultas (lembre-se de que cada tabela deve conter pelo menos uma linha e que todas as consulta têm de retornar um resultado não vazio)."
   ]
  },
  {
   "cell_type": "code",
   "execution_count": null,
   "id": "689fbf59-980b-4c09-8b8e-7beee128b324",
   "metadata": {
    "tags": []
   },
   "outputs": [],
   "source": [
    "%%sql\n",
    "-- populate.sql\n",
    "\n",
    "INSERT INTO Customer\n",
    "VALUES\n",
    "(13, 'João Faria', 'joao.faria@gmail.com', '913789392', 'Rua Camoes, 123'),\n",
    "(2, 'Jorge Nunes', 'jorge.n@hotmail.com', '987712312', 'Rua Amarela, 123'),\n",
    "(35, 'Ana Lampreia', 'ana.lamp@gmailcom', '91203456', 'Rua dos Cravos, 12');\n",
    "\n",
    "INSERT INTO Order_\n",
    "VALUES\n",
    "(101, '2023-01-01', 13),\n",
    "(102, '2023-01-02', 2),\n",
    "(103, '2023-05-03', 35),\n",
    "(104, '2023-05-03', 2);\n",
    "\n",
    "INSERT INTO Sale\n",
    "VALUES\n",
    "(101),\n",
    "(102),\n",
    "(104);\n",
    "\n",
    "INSERT INTO pay \n",
    "VALUES\n",
    "(101, 13),\n",
    "(102, 2),\n",
    "(104, 2);\n",
    "\n",
    "INSERT INTO Employee\n",
    "VALUES\n",
    "('12345678910', 243678525, '1999-01-01', 'Sofia Barbosa'),\n",
    "('10987654321', 125637263, '1985-05-10', 'Diogo Silva');\n",
    "\n",
    "INSERT INTO process\n",
    "VALUES\n",
    "('12345678910', 101),\n",
    "('10987654321', 102),\n",
    "('10987654321', 104);\n",
    "\n",
    "INSERT INTO Department\n",
    "VALUES\n",
    "('Sales'),\n",
    "('Accounting');\n",
    "\n",
    "INSERT INTO Workplace \n",
    "VALUES\n",
    "('Rua 25 de Abril, 15', 37.1234, -122.5678),\n",
    "('Avenida das Pombas, 2', 38.9876, -121.3456);\n",
    "\n",
    "\n",
    "INSERT INTO works \n",
    "VALUES\n",
    "('12345678910', 'Sales', 'Rua 25 de Abril, 15'),\n",
    "('10987654321', 'Accounting', 'Avenida das Pombas, 2');\n",
    "\n",
    "INSERT INTO Office \n",
    "VALUES\n",
    "('Rua 25 de Abril, 15');\n",
    "\n",
    "INSERT INTO Warehouse \n",
    "VALUES\n",
    "('Avenida das Pombas, 2');\n",
    "\n",
    "INSERT INTO Product \n",
    "VALUES\n",
    "('1001A', 'Caneta', 'caneta preta', 100),\n",
    "('1002B', 'Móvel', 'móvel branco de madeira', 3500),\n",
    "('1003C', 'Cama', 'Cama Queen-Size', 29900);\n",
    "\n",
    "INSERT INTO EAN_Product\n",
    "VALUES\n",
    "('1001A', 5607260022122),\n",
    "('1002B', 5602727273111);\n",
    "\n",
    "INSERT INTO Supplier\n",
    "VALUES\n",
    "(983747222, 'Joana Pereira', 'Rua Verde, 230'),\n",
    "(124455551, 'Jacinto Torres', 'Rua Azul, 123'),\n",
    "(525258733, 'Miguel Leal', 'Rua Camoes, 17');\n",
    "\n",
    "INSERT INTO contains_\n",
    "VALUES\n",
    "(101, '1001A', 2),\n",
    "(101, '1002B', 6),\n",
    "(102, '1001A', 2),\n",
    "(103, '1003C', 1),\n",
    "(104, '1003C', 6);\n",
    "\n",
    "INSERT INTO supply_contract\n",
    "VALUES\n",
    "(983747222, '1001A', '2022-05-01'),\n",
    "(124455551, '1002B', '2022-05-02'),\n",
    "(525258733, '1003C', '2022-05-03');\n",
    "\n",
    "\n",
    "\n",
    "INSERT INTO Delivery\n",
    "VALUES\n",
    "('Avenida das Pombas, 2', 983747222),\n",
    "('Avenida das Pombas, 2', 124455551),\n",
    "('Avenida das Pombas, 2', 525258733);\n"
   ]
  },
  {
   "attachments": {},
   "cell_type": "markdown",
   "id": "bb425531-1147-4060-a775-53f06eca7e5e",
   "metadata": {},
   "source": [
    "## 4 Linguagem SQL\n",
    "\n",
    "Apresente a expressão SQL correspondente  a cada uma das interrogações de Álgebra Relacional.\n"
   ]
  },
  {
   "attachments": {},
   "cell_type": "markdown",
   "id": "8b4fcf67-1556-422c-b607-a71732d7d2a4",
   "metadata": {
    "tags": []
   },
   "source": [
    "1. Liste o nome de todos os clientes que fizeram encomendas contendo produtos de preço superior a €50 no ano de 2023;"
   ]
  },
  {
   "cell_type": "code",
   "execution_count": null,
   "id": "15197f8d-073e-4cb8-861f-be594a6efadd",
   "metadata": {
    "tags": []
   },
   "outputs": [],
   "source": [
    "%%sql\n",
    "\n",
    "SELECT name \n",
    "FROM Customer\n",
    "    NATURAL JOIN Order_\n",
    "    NATURAL JOIN contains_\n",
    "    NATURAL JOIN (SELECT sku FROM Product WHERE price > 5000) \n",
    "                        AS product_above_50\n",
    "WHERE \n",
    "    EXTRACT(YEAR FROM date) = 2023;"
   ]
  },
  {
   "attachments": {},
   "cell_type": "markdown",
   "id": "9b744170-a244-43b3-984f-3654d95c5f4f",
   "metadata": {
    "tags": []
   },
   "source": [
    "2. Liste o nome de todos os empregados que trabalham em armazéns e não em escritórios e processaram encomendas em Janeiro de 2023;"
   ]
  },
  {
   "cell_type": "code",
   "execution_count": null,
   "id": "4da673da-e257-421f-a84e-ec7cacc74c8d",
   "metadata": {
    "tags": []
   },
   "outputs": [],
   "source": [
    "%%sql\n",
    "\n",
    "SELECT  DISTINCT name\n",
    "FROM Employee\n",
    "    NATURAL JOIN (SELECT order_no FROM process)\n",
    "        AS processed_order\n",
    "    NATURAL JOIN (SELECT date FROM Order_)\n",
    "        AS order_date\n",
    "    NATURAL JOIN (SELECT ssn, address FROM works) \n",
    "        AS working_employees\n",
    "    NATURAL JOIN (\n",
    "        (SELECT address FROM Warehouse AS w_employee)\n",
    "        EXCEPT\n",
    "        (SELECT address FROM Office AS o_employee)\n",
    "    ) AS w_only_employees    \n",
    "WHERE EXTRACT(YEAR FROM date) = 2023 \n",
    "        AND EXTRACT(MONTH FROM date) = 1;"
   ]
  },
  {
   "attachments": {},
   "cell_type": "markdown",
   "id": "a3a2597b-7409-4895-b5db-27e405b6f578",
   "metadata": {
    "tags": []
   },
   "source": [
    "3. Indique o nome do produto mais vendido;"
   ]
  },
  {
   "cell_type": "code",
   "execution_count": null,
   "id": "b2f660cd-895f-473a-b806-b818615022bb",
   "metadata": {
    "tags": []
   },
   "outputs": [],
   "source": [
    "%%sql\n",
    "\n",
    "WITH qty_sold_by_product AS (\n",
    "    SELECT sku, SUM(qty) AS total_qty\n",
    "    FROM (contains_ NATURAL JOIN Sale)\n",
    "    GROUP BY sku\n",
    ")\n",
    "SELECT name AS most_sold\n",
    "FROM Product NATURAL JOIN\n",
    "    (SELECT *\n",
    "    FROM qty_sold_by_product\n",
    "        WHERE total_qty = (\n",
    "        SELECT MAX(total_qty)\n",
    "        FROM qty_sold_by_product\n",
    "    )) AS most_sold_products;"
   ]
  },
  {
   "attachments": {},
   "cell_type": "markdown",
   "id": "e977128e-13cd-4504-9cb6-5ec1a847e9fd",
   "metadata": {},
   "source": [
    "4. Indique o valor total de cada venda realizada."
   ]
  },
  {
   "cell_type": "code",
   "execution_count": null,
   "id": "bed65cfe-3a3c-4244-847b-808f84b12e47",
   "metadata": {
    "tags": []
   },
   "outputs": [],
   "source": [
    "%%sql\n",
    "\n",
    "SELECT order_no AS sale, SUM(price * qty) AS total_value\n",
    "FROM Sale\n",
    "    INNER JOIN contains_ c USING (order_no)\n",
    "    INNER JOIN Product USING (sku)\n",
    "    GROUP BY order_no;\n",
    "        "
   ]
  }
 ],
 "metadata": {
  "language_info": {
   "name": "python"
  }
 },
 "nbformat": 4,
 "nbformat_minor": 5
}
